{
 "cells": [
  {
   "cell_type": "code",
   "execution_count": 40,
   "id": "7b5fb903",
   "metadata": {},
   "outputs": [],
   "source": [
    "import math\n",
    "import numpy as np\n",
    "import pickle\n",
    "from neo4j import GraphDatabase\n",
    "import os\n",
    "from dotenv import load_dotenv"
   ]
  },
  {
   "cell_type": "code",
   "execution_count": 50,
   "id": "3ed88f92",
   "metadata": {},
   "outputs": [
    {
     "data": {
      "text/plain": [
       "True"
      ]
     },
     "execution_count": 50,
     "metadata": {},
     "output_type": "execute_result"
    }
   ],
   "source": [
    "load_dotenv()"
   ]
  },
  {
   "cell_type": "code",
   "execution_count": 51,
   "id": "97281bc9",
   "metadata": {},
   "outputs": [
    {
     "name": "stdout",
     "output_type": "stream",
     "text": [
      "neo4j\n"
     ]
    }
   ],
   "source": [
    "print(os.getenv('NEO4J_USERNAME'))"
   ]
  },
  {
   "cell_type": "code",
   "execution_count": 17,
   "id": "63ef4c30",
   "metadata": {},
   "outputs": [],
   "source": [
    "def three2one():\n",
    "    three_2_one = {}\n",
    "    with open(\"123.txt\") as f:\n",
    "        symbols = f.readlines()\n",
    "    for sym in symbols:\n",
    "        sym = sym.split()\n",
    "        one = sym[0]\n",
    "        three = sym[1].upper()\n",
    "        three_2_one[three] = one\n",
    "    return three_2_one"
   ]
  },
  {
   "cell_type": "code",
   "execution_count": 30,
   "id": "bc99cffe",
   "metadata": {},
   "outputs": [],
   "source": [
    "class Extractor:\n",
    "    def __init__(self,pdb_filepath):\n",
    "        self.filepath = pdb_filepath\n",
    "        self.three_2_one = three2one()\n",
    "        self.file_lines = self.read_pdb() # collect the lines\n",
    "        self.acc = self.get_alpha_carbon_coordinates() # a dictionary, containing co-ordinates of alpha carbons (acc-alpha carbon co-ordinates)\n",
    "        self.distance_dict = self.compute_distances() # a dictionary with pairwise distances\n",
    "        \n",
    "    def read_pdb(self):\n",
    "        '''Return lines of the pdb file'''\n",
    "        with open(self.filepath) as f:\n",
    "            lines = f.readlines()\n",
    "        return lines\n",
    "    \n",
    "    def get_alpha_carbon_coordinates(self):\n",
    "        '''Returns a dictionary of alpha-carbon name and its coordinates'''\n",
    "        \n",
    "        # extract the pdb id first\n",
    "        pdb_id = self.file_lines[0].strip(\"\\n\").split()[-1]\n",
    "        \n",
    "        alpha_coord = {}\n",
    "        for line in self.file_lines:\n",
    "            words = line.strip(\"\\n\").split()\n",
    "            if \"ATOM\" in words and \"CA\" in words:\n",
    "                x = float(words[6])\n",
    "                y = float(words[7])\n",
    "                z = float(words[8])\n",
    "                chain = words[4]\n",
    "                symbol = self.three_2_one[words[3]]\n",
    "                seq = words[5]\n",
    "                name = symbol + chain + seq + pdb_id\n",
    "                alpha_coord[name] = [x,y,z]\n",
    "        return alpha_coord\n",
    "                \n",
    "    def euclidean_distance(self,t1,t2):\n",
    "      # takes in two tuples\n",
    "      return np.linalg.norm(np.array(t1)-np.array(t2))\n",
    "                \n",
    "    def compute_distances(self):\n",
    "        distance_dict = {}\n",
    "        alphas = list(self.acc.keys())\n",
    "        for i in range(len(alphas)):\n",
    "        # only consider the atoms ahead of this atom\n",
    "            atoms = alphas[i+1:]\n",
    "            for atom in atoms:\n",
    "                pair = alphas[i]+\"<--->\"+atom\n",
    "                distance_dict[pair] = self.euclidean_distance(self.acc[alphas[i]],self.acc[atom])\n",
    "        return distance_dict\n",
    "    \n",
    "    def save_pairwise_distances(self,path_to_save):\n",
    "        with open(path_to_save,'wb') as f:\n",
    "            pickle.dump(self.distance_dict,f)"
   ]
  },
  {
   "cell_type": "code",
   "execution_count": 31,
   "id": "95bfee6d",
   "metadata": {},
   "outputs": [],
   "source": [
    "ex = Extractor(\"6wps.pdb\")"
   ]
  },
  {
   "cell_type": "code",
   "execution_count": 33,
   "id": "3587802b",
   "metadata": {},
   "outputs": [],
   "source": [
    "ex.save_pairwise_distances(\"./oop_dist_dict.pkl\")"
   ]
  },
  {
   "cell_type": "code",
   "execution_count": 59,
   "id": "a78a712d",
   "metadata": {},
   "outputs": [
    {
     "name": "stdout",
     "output_type": "stream",
     "text": [
      "neo4j+s://b35890ab.databases.neo4j.io\n"
     ]
    }
   ],
   "source": [
    "url = os.getenv(\"NEO4J_URI\")\n",
    "username = os.getenv(\"NEO4j_USERNAME\")\n",
    "password = os.getenv(\"NEO4J_PASSWORD\")\n",
    "print(url)\n",
    "\n",
    "class GraphBuilder:\n",
    "    def __init__(self,path_of_distance_dict,threshold):\n",
    "        self.driver = GraphDatabase.driver(url, auth=(username, password))\n",
    "        self.distance_dict = self.load_distance_dict(path_of_distance_dict)\n",
    "        self.threshold = threshold\n",
    "        self.edges = self.get_edges()\n",
    "        \n",
    "    def load_distance_dict(self,path_to_load):\n",
    "        try:\n",
    "            with open(path_to_load, \"rb\") as f:\n",
    "                distance_dict = pickle.load(f)\n",
    "            return distance_dict\n",
    "        except:\n",
    "            raise FileNotFoundError(\"File path seems to be wrong. Please try again with a valid pickle file.\")\n",
    "            \n",
    "    def get_edges(self):\n",
    "        edges = []\n",
    "        for key, value in self.distance_dict.items():\n",
    "            if value <= self.threshold:\n",
    "                alpha1, alpha2 = key.split(\"<--->\")\n",
    "                edges.append((alpha1, alpha2,value))\n",
    "        return edges\n",
    "    \n",
    "    def make_graph(self):\n",
    "        with self.driver.session() as session:\n",
    "            for i, edge in enumerate(self.edges):\n",
    "                alpha1 = edge[0]\n",
    "                alpha2 = edge[1]\n",
    "                distance = edge[2]\n",
    "                session.write_transaction(create_edge, alpha1, alpha2,distance)\n",
    "                session.write_transaction(create_edge, alpha2, alpha1,distance)\n",
    "                if (i + 1) % 100 == 0:\n",
    "                    print(i + 1, \"records added.\")\n",
    "        driver.close()\n",
    "        print(\"Connection closed, Done !\")\n",
    "            \n",
    "            \n",
    "def create_edge(tx, alpha1, alpha2,distance):\n",
    "    # alpha1 and alpha 2 will be like-> AA27-6wps\n",
    "    # name = symbol + chain + seq + pdbid\n",
    "    # sy1 = alpha1[0]\n",
    "    ch1 = alpha1[1]\n",
    "    # sq1 = alpha1[2:4]\n",
    "    # pdbid1 = alpha1[5:]\n",
    "\n",
    "    # sy2 = alpha2[0]\n",
    "    ch2 = alpha2[1]\n",
    "    # sq2 = alpha2[2:4]\n",
    "    # pdbid2 = alpha2[5:]\n",
    "\n",
    "    tx.run(\"MERGE (a1:AMINO_ACID {name:$alpha1, chain:$ch1}) \"\n",
    "           \"MERGE (a2:AMINO_ACID {name:$alpha2, chain:$ch2}) \"\n",
    "           \"MERGE (a1)-[:CONNECTED_TO {distance:$distance}]->(a2)\", alpha1=alpha1, alpha2=alpha2, ch1=ch1, ch2=ch2,distance=distance)"
   ]
  },
  {
   "cell_type": "code",
   "execution_count": 60,
   "id": "fe754033",
   "metadata": {},
   "outputs": [],
   "source": [
    "gb = GraphBuilder(path_of_distance_dict=\"oop_dist_dict.pkl\",threshold=3.8)"
   ]
  },
  {
   "cell_type": "code",
   "execution_count": 61,
   "id": "709bdd96",
   "metadata": {},
   "outputs": [
    {
     "name": "stdout",
     "output_type": "stream",
     "text": [
      "100 records added.\n",
      "200 records added.\n",
      "300 records added.\n",
      "400 records added.\n",
      "500 records added.\n",
      "600 records added.\n",
      "700 records added.\n",
      "800 records added.\n"
     ]
    },
    {
     "ename": "KeyboardInterrupt",
     "evalue": "",
     "output_type": "error",
     "traceback": [
      "\u001b[1;31m---------------------------------------------------------------------------\u001b[0m",
      "\u001b[1;31mKeyboardInterrupt\u001b[0m                         Traceback (most recent call last)",
      "\u001b[1;32m~\\AppData\\Local\\Temp/ipykernel_4988/1605103965.py\u001b[0m in \u001b[0;36m<module>\u001b[1;34m\u001b[0m\n\u001b[1;32m----> 1\u001b[1;33m \u001b[0mgb\u001b[0m\u001b[1;33m.\u001b[0m\u001b[0mmake_graph\u001b[0m\u001b[1;33m(\u001b[0m\u001b[1;33m)\u001b[0m\u001b[1;33m\u001b[0m\u001b[1;33m\u001b[0m\u001b[0m\n\u001b[0m",
      "\u001b[1;32m~\\AppData\\Local\\Temp/ipykernel_4988/678236514.py\u001b[0m in \u001b[0;36mmake_graph\u001b[1;34m(self)\u001b[0m\n\u001b[0;32m     34\u001b[0m                 \u001b[0mdistance\u001b[0m \u001b[1;33m=\u001b[0m \u001b[0medge\u001b[0m\u001b[1;33m[\u001b[0m\u001b[1;36m2\u001b[0m\u001b[1;33m]\u001b[0m\u001b[1;33m\u001b[0m\u001b[1;33m\u001b[0m\u001b[0m\n\u001b[0;32m     35\u001b[0m                 \u001b[0msession\u001b[0m\u001b[1;33m.\u001b[0m\u001b[0mwrite_transaction\u001b[0m\u001b[1;33m(\u001b[0m\u001b[0mcreate_edge\u001b[0m\u001b[1;33m,\u001b[0m \u001b[0malpha1\u001b[0m\u001b[1;33m,\u001b[0m \u001b[0malpha2\u001b[0m\u001b[1;33m,\u001b[0m\u001b[0mdistance\u001b[0m\u001b[1;33m)\u001b[0m\u001b[1;33m\u001b[0m\u001b[1;33m\u001b[0m\u001b[0m\n\u001b[1;32m---> 36\u001b[1;33m                 \u001b[0msession\u001b[0m\u001b[1;33m.\u001b[0m\u001b[0mwrite_transaction\u001b[0m\u001b[1;33m(\u001b[0m\u001b[0mcreate_edge\u001b[0m\u001b[1;33m,\u001b[0m \u001b[0malpha2\u001b[0m\u001b[1;33m,\u001b[0m \u001b[0malpha1\u001b[0m\u001b[1;33m,\u001b[0m\u001b[0mdistance\u001b[0m\u001b[1;33m)\u001b[0m\u001b[1;33m\u001b[0m\u001b[1;33m\u001b[0m\u001b[0m\n\u001b[0m\u001b[0;32m     37\u001b[0m                 \u001b[1;32mif\u001b[0m \u001b[1;33m(\u001b[0m\u001b[0mi\u001b[0m \u001b[1;33m+\u001b[0m \u001b[1;36m1\u001b[0m\u001b[1;33m)\u001b[0m \u001b[1;33m%\u001b[0m \u001b[1;36m100\u001b[0m \u001b[1;33m==\u001b[0m \u001b[1;36m0\u001b[0m\u001b[1;33m:\u001b[0m\u001b[1;33m\u001b[0m\u001b[1;33m\u001b[0m\u001b[0m\n\u001b[0;32m     38\u001b[0m                     \u001b[0mprint\u001b[0m\u001b[1;33m(\u001b[0m\u001b[0mi\u001b[0m \u001b[1;33m+\u001b[0m \u001b[1;36m1\u001b[0m\u001b[1;33m,\u001b[0m \u001b[1;34m\"records added.\"\u001b[0m\u001b[1;33m)\u001b[0m\u001b[1;33m\u001b[0m\u001b[1;33m\u001b[0m\u001b[0m\n",
      "\u001b[1;32mD:\\anaconda_dist\\lib\\site-packages\\neo4j\\work\\simple.py\u001b[0m in \u001b[0;36mwrite_transaction\u001b[1;34m(self, transaction_function, *args, **kwargs)\u001b[0m\n\u001b[0;32m    420\u001b[0m         \u001b[1;33m:\u001b[0m\u001b[1;32mreturn\u001b[0m\u001b[1;33m:\u001b[0m \u001b[0ma\u001b[0m \u001b[0mresult\u001b[0m \u001b[1;32mas\u001b[0m \u001b[0mreturned\u001b[0m \u001b[0mby\u001b[0m \u001b[0mthe\u001b[0m \u001b[0mgiven\u001b[0m \u001b[0munit\u001b[0m \u001b[0mof\u001b[0m \u001b[0mwork\u001b[0m\u001b[1;33m\u001b[0m\u001b[1;33m\u001b[0m\u001b[0m\n\u001b[0;32m    421\u001b[0m         \"\"\"\n\u001b[1;32m--> 422\u001b[1;33m         \u001b[1;32mreturn\u001b[0m \u001b[0mself\u001b[0m\u001b[1;33m.\u001b[0m\u001b[0m_run_transaction\u001b[0m\u001b[1;33m(\u001b[0m\u001b[0mWRITE_ACCESS\u001b[0m\u001b[1;33m,\u001b[0m \u001b[0mtransaction_function\u001b[0m\u001b[1;33m,\u001b[0m \u001b[1;33m*\u001b[0m\u001b[0margs\u001b[0m\u001b[1;33m,\u001b[0m \u001b[1;33m**\u001b[0m\u001b[0mkwargs\u001b[0m\u001b[1;33m)\u001b[0m\u001b[1;33m\u001b[0m\u001b[1;33m\u001b[0m\u001b[0m\n\u001b[0m\u001b[0;32m    423\u001b[0m \u001b[1;33m\u001b[0m\u001b[0m\n\u001b[0;32m    424\u001b[0m \u001b[1;33m\u001b[0m\u001b[0m\n",
      "\u001b[1;32mD:\\anaconda_dist\\lib\\site-packages\\neo4j\\work\\simple.py\u001b[0m in \u001b[0;36m_run_transaction\u001b[1;34m(self, access_mode, transaction_function, *args, **kwargs)\u001b[0m\n\u001b[0;32m    320\u001b[0m         \u001b[1;32mwhile\u001b[0m \u001b[1;32mTrue\u001b[0m\u001b[1;33m:\u001b[0m\u001b[1;33m\u001b[0m\u001b[1;33m\u001b[0m\u001b[0m\n\u001b[0;32m    321\u001b[0m             \u001b[1;32mtry\u001b[0m\u001b[1;33m:\u001b[0m\u001b[1;33m\u001b[0m\u001b[1;33m\u001b[0m\u001b[0m\n\u001b[1;32m--> 322\u001b[1;33m                 \u001b[0mself\u001b[0m\u001b[1;33m.\u001b[0m\u001b[0m_open_transaction\u001b[0m\u001b[1;33m(\u001b[0m\u001b[0maccess_mode\u001b[0m\u001b[1;33m=\u001b[0m\u001b[0maccess_mode\u001b[0m\u001b[1;33m,\u001b[0m \u001b[0mmetadata\u001b[0m\u001b[1;33m=\u001b[0m\u001b[0mmetadata\u001b[0m\u001b[1;33m,\u001b[0m \u001b[0mtimeout\u001b[0m\u001b[1;33m=\u001b[0m\u001b[0mtimeout\u001b[0m\u001b[1;33m)\u001b[0m\u001b[1;33m\u001b[0m\u001b[1;33m\u001b[0m\u001b[0m\n\u001b[0m\u001b[0;32m    323\u001b[0m                 \u001b[0mtx\u001b[0m \u001b[1;33m=\u001b[0m \u001b[0mself\u001b[0m\u001b[1;33m.\u001b[0m\u001b[0m_transaction\u001b[0m\u001b[1;33m\u001b[0m\u001b[1;33m\u001b[0m\u001b[0m\n\u001b[0;32m    324\u001b[0m                 \u001b[1;32mtry\u001b[0m\u001b[1;33m:\u001b[0m\u001b[1;33m\u001b[0m\u001b[1;33m\u001b[0m\u001b[0m\n",
      "\u001b[1;32mD:\\anaconda_dist\\lib\\site-packages\\neo4j\\work\\simple.py\u001b[0m in \u001b[0;36m_open_transaction\u001b[1;34m(self, access_mode, metadata, timeout)\u001b[0m\n\u001b[0;32m    259\u001b[0m             \u001b[0mself\u001b[0m\u001b[1;33m.\u001b[0m\u001b[0m_transaction_error_handler\u001b[0m\u001b[1;33m\u001b[0m\u001b[1;33m\u001b[0m\u001b[0m\n\u001b[0;32m    260\u001b[0m         )\n\u001b[1;32m--> 261\u001b[1;33m         self._transaction._begin(\n\u001b[0m\u001b[0;32m    262\u001b[0m             \u001b[0mself\u001b[0m\u001b[1;33m.\u001b[0m\u001b[0m_config\u001b[0m\u001b[1;33m.\u001b[0m\u001b[0mdatabase\u001b[0m\u001b[1;33m,\u001b[0m \u001b[0mself\u001b[0m\u001b[1;33m.\u001b[0m\u001b[0m_config\u001b[0m\u001b[1;33m.\u001b[0m\u001b[0mimpersonated_user\u001b[0m\u001b[1;33m,\u001b[0m\u001b[1;33m\u001b[0m\u001b[1;33m\u001b[0m\u001b[0m\n\u001b[0;32m    263\u001b[0m             \u001b[0mself\u001b[0m\u001b[1;33m.\u001b[0m\u001b[0m_bookmarks\u001b[0m\u001b[1;33m,\u001b[0m \u001b[0maccess_mode\u001b[0m\u001b[1;33m,\u001b[0m \u001b[0mmetadata\u001b[0m\u001b[1;33m,\u001b[0m \u001b[0mtimeout\u001b[0m\u001b[1;33m\u001b[0m\u001b[1;33m\u001b[0m\u001b[0m\n",
      "\u001b[1;32mD:\\anaconda_dist\\lib\\site-packages\\neo4j\\work\\transaction.py\u001b[0m in \u001b[0;36m_begin\u001b[1;34m(self, database, imp_user, bookmarks, access_mode, metadata, timeout)\u001b[0m\n\u001b[0;32m     68\u001b[0m             \u001b[0mmode\u001b[0m\u001b[1;33m=\u001b[0m\u001b[0maccess_mode\u001b[0m\u001b[1;33m,\u001b[0m \u001b[0mdb\u001b[0m\u001b[1;33m=\u001b[0m\u001b[0mdatabase\u001b[0m\u001b[1;33m,\u001b[0m \u001b[0mimp_user\u001b[0m\u001b[1;33m=\u001b[0m\u001b[0mimp_user\u001b[0m\u001b[1;33m\u001b[0m\u001b[1;33m\u001b[0m\u001b[0m\n\u001b[0;32m     69\u001b[0m         )\n\u001b[1;32m---> 70\u001b[1;33m         \u001b[0mself\u001b[0m\u001b[1;33m.\u001b[0m\u001b[0m_error_handling_connection\u001b[0m\u001b[1;33m.\u001b[0m\u001b[0msend_all\u001b[0m\u001b[1;33m(\u001b[0m\u001b[1;33m)\u001b[0m\u001b[1;33m\u001b[0m\u001b[1;33m\u001b[0m\u001b[0m\n\u001b[0m\u001b[0;32m     71\u001b[0m         \u001b[0mself\u001b[0m\u001b[1;33m.\u001b[0m\u001b[0m_error_handling_connection\u001b[0m\u001b[1;33m.\u001b[0m\u001b[0mfetch_all\u001b[0m\u001b[1;33m(\u001b[0m\u001b[1;33m)\u001b[0m\u001b[1;33m\u001b[0m\u001b[1;33m\u001b[0m\u001b[0m\n\u001b[0;32m     72\u001b[0m \u001b[1;33m\u001b[0m\u001b[0m\n",
      "\u001b[1;32mD:\\anaconda_dist\\lib\\site-packages\\neo4j\\io\\_common.py\u001b[0m in \u001b[0;36minner\u001b[1;34m(*args, **kwargs)\u001b[0m\n\u001b[0;32m    185\u001b[0m             \u001b[1;32mdef\u001b[0m \u001b[0minner\u001b[0m\u001b[1;33m(\u001b[0m\u001b[1;33m*\u001b[0m\u001b[0margs\u001b[0m\u001b[1;33m,\u001b[0m \u001b[1;33m**\u001b[0m\u001b[0mkwargs\u001b[0m\u001b[1;33m)\u001b[0m\u001b[1;33m:\u001b[0m\u001b[1;33m\u001b[0m\u001b[1;33m\u001b[0m\u001b[0m\n\u001b[0;32m    186\u001b[0m                 \u001b[1;32mtry\u001b[0m\u001b[1;33m:\u001b[0m\u001b[1;33m\u001b[0m\u001b[1;33m\u001b[0m\u001b[0m\n\u001b[1;32m--> 187\u001b[1;33m                     \u001b[0mfunc\u001b[0m\u001b[1;33m(\u001b[0m\u001b[1;33m*\u001b[0m\u001b[0margs\u001b[0m\u001b[1;33m,\u001b[0m \u001b[1;33m**\u001b[0m\u001b[0mkwargs\u001b[0m\u001b[1;33m)\u001b[0m\u001b[1;33m\u001b[0m\u001b[1;33m\u001b[0m\u001b[0m\n\u001b[0m\u001b[0;32m    188\u001b[0m                 \u001b[1;32mexcept\u001b[0m \u001b[1;33m(\u001b[0m\u001b[0mNeo4jError\u001b[0m\u001b[1;33m,\u001b[0m \u001b[0mServiceUnavailable\u001b[0m\u001b[1;33m,\u001b[0m \u001b[0mSessionExpired\u001b[0m\u001b[1;33m)\u001b[0m \u001b[1;32mas\u001b[0m \u001b[0mexc\u001b[0m\u001b[1;33m:\u001b[0m\u001b[1;33m\u001b[0m\u001b[1;33m\u001b[0m\u001b[0m\n\u001b[0;32m    189\u001b[0m                     \u001b[0mself\u001b[0m\u001b[1;33m.\u001b[0m\u001b[0m__on_error\u001b[0m\u001b[1;33m(\u001b[0m\u001b[0mexc\u001b[0m\u001b[1;33m)\u001b[0m\u001b[1;33m\u001b[0m\u001b[1;33m\u001b[0m\u001b[0m\n",
      "\u001b[1;32mD:\\anaconda_dist\\lib\\site-packages\\neo4j\\io\\__init__.py\u001b[0m in \u001b[0;36msend_all\u001b[1;34m(self)\u001b[0m\n\u001b[0;32m    509\u001b[0m                 self.unresolved_address, self.server_info.address))\n\u001b[0;32m    510\u001b[0m \u001b[1;33m\u001b[0m\u001b[0m\n\u001b[1;32m--> 511\u001b[1;33m         \u001b[0mself\u001b[0m\u001b[1;33m.\u001b[0m\u001b[0m_send_all\u001b[0m\u001b[1;33m(\u001b[0m\u001b[1;33m)\u001b[0m\u001b[1;33m\u001b[0m\u001b[1;33m\u001b[0m\u001b[0m\n\u001b[0m\u001b[0;32m    512\u001b[0m \u001b[1;33m\u001b[0m\u001b[0m\n\u001b[0;32m    513\u001b[0m     \u001b[1;33m@\u001b[0m\u001b[0mabc\u001b[0m\u001b[1;33m.\u001b[0m\u001b[0mabstractmethod\u001b[0m\u001b[1;33m\u001b[0m\u001b[1;33m\u001b[0m\u001b[0m\n",
      "\u001b[1;32mD:\\anaconda_dist\\lib\\site-packages\\neo4j\\io\\__init__.py\u001b[0m in \u001b[0;36m_send_all\u001b[1;34m(self)\u001b[0m\n\u001b[0;32m    493\u001b[0m         \u001b[1;32mif\u001b[0m \u001b[0mdata\u001b[0m\u001b[1;33m:\u001b[0m\u001b[1;33m\u001b[0m\u001b[1;33m\u001b[0m\u001b[0m\n\u001b[0;32m    494\u001b[0m             \u001b[1;32mtry\u001b[0m\u001b[1;33m:\u001b[0m\u001b[1;33m\u001b[0m\u001b[1;33m\u001b[0m\u001b[0m\n\u001b[1;32m--> 495\u001b[1;33m                 \u001b[0mself\u001b[0m\u001b[1;33m.\u001b[0m\u001b[0msocket\u001b[0m\u001b[1;33m.\u001b[0m\u001b[0msendall\u001b[0m\u001b[1;33m(\u001b[0m\u001b[0mdata\u001b[0m\u001b[1;33m)\u001b[0m\u001b[1;33m\u001b[0m\u001b[1;33m\u001b[0m\u001b[0m\n\u001b[0m\u001b[0;32m    496\u001b[0m             \u001b[1;32mexcept\u001b[0m \u001b[0mOSError\u001b[0m \u001b[1;32mas\u001b[0m \u001b[0merror\u001b[0m\u001b[1;33m:\u001b[0m\u001b[1;33m\u001b[0m\u001b[1;33m\u001b[0m\u001b[0m\n\u001b[0;32m    497\u001b[0m                 \u001b[0mself\u001b[0m\u001b[1;33m.\u001b[0m\u001b[0m_set_defunct_write\u001b[0m\u001b[1;33m(\u001b[0m\u001b[0merror\u001b[0m\u001b[1;33m)\u001b[0m\u001b[1;33m\u001b[0m\u001b[1;33m\u001b[0m\u001b[0m\n",
      "\u001b[1;32mD:\\anaconda_dist\\lib\\ssl.py\u001b[0m in \u001b[0;36msendall\u001b[1;34m(self, data, flags)\u001b[0m\n\u001b[0;32m   1202\u001b[0m                 \u001b[0mamount\u001b[0m \u001b[1;33m=\u001b[0m \u001b[0mlen\u001b[0m\u001b[1;33m(\u001b[0m\u001b[0mbyte_view\u001b[0m\u001b[1;33m)\u001b[0m\u001b[1;33m\u001b[0m\u001b[1;33m\u001b[0m\u001b[0m\n\u001b[0;32m   1203\u001b[0m                 \u001b[1;32mwhile\u001b[0m \u001b[0mcount\u001b[0m \u001b[1;33m<\u001b[0m \u001b[0mamount\u001b[0m\u001b[1;33m:\u001b[0m\u001b[1;33m\u001b[0m\u001b[1;33m\u001b[0m\u001b[0m\n\u001b[1;32m-> 1204\u001b[1;33m                     \u001b[0mv\u001b[0m \u001b[1;33m=\u001b[0m \u001b[0mself\u001b[0m\u001b[1;33m.\u001b[0m\u001b[0msend\u001b[0m\u001b[1;33m(\u001b[0m\u001b[0mbyte_view\u001b[0m\u001b[1;33m[\u001b[0m\u001b[0mcount\u001b[0m\u001b[1;33m:\u001b[0m\u001b[1;33m]\u001b[0m\u001b[1;33m)\u001b[0m\u001b[1;33m\u001b[0m\u001b[1;33m\u001b[0m\u001b[0m\n\u001b[0m\u001b[0;32m   1205\u001b[0m                     \u001b[0mcount\u001b[0m \u001b[1;33m+=\u001b[0m \u001b[0mv\u001b[0m\u001b[1;33m\u001b[0m\u001b[1;33m\u001b[0m\u001b[0m\n\u001b[0;32m   1206\u001b[0m         \u001b[1;32melse\u001b[0m\u001b[1;33m:\u001b[0m\u001b[1;33m\u001b[0m\u001b[1;33m\u001b[0m\u001b[0m\n",
      "\u001b[1;32mD:\\anaconda_dist\\lib\\ssl.py\u001b[0m in \u001b[0;36msend\u001b[1;34m(self, data, flags)\u001b[0m\n\u001b[0;32m   1171\u001b[0m                     \u001b[1;34m\"non-zero flags not allowed in calls to send() on %s\"\u001b[0m \u001b[1;33m%\u001b[0m\u001b[1;33m\u001b[0m\u001b[1;33m\u001b[0m\u001b[0m\n\u001b[0;32m   1172\u001b[0m                     self.__class__)\n\u001b[1;32m-> 1173\u001b[1;33m             \u001b[1;32mreturn\u001b[0m \u001b[0mself\u001b[0m\u001b[1;33m.\u001b[0m\u001b[0m_sslobj\u001b[0m\u001b[1;33m.\u001b[0m\u001b[0mwrite\u001b[0m\u001b[1;33m(\u001b[0m\u001b[0mdata\u001b[0m\u001b[1;33m)\u001b[0m\u001b[1;33m\u001b[0m\u001b[1;33m\u001b[0m\u001b[0m\n\u001b[0m\u001b[0;32m   1174\u001b[0m         \u001b[1;32melse\u001b[0m\u001b[1;33m:\u001b[0m\u001b[1;33m\u001b[0m\u001b[1;33m\u001b[0m\u001b[0m\n\u001b[0;32m   1175\u001b[0m             \u001b[1;32mreturn\u001b[0m \u001b[0msuper\u001b[0m\u001b[1;33m(\u001b[0m\u001b[1;33m)\u001b[0m\u001b[1;33m.\u001b[0m\u001b[0msend\u001b[0m\u001b[1;33m(\u001b[0m\u001b[0mdata\u001b[0m\u001b[1;33m,\u001b[0m \u001b[0mflags\u001b[0m\u001b[1;33m)\u001b[0m\u001b[1;33m\u001b[0m\u001b[1;33m\u001b[0m\u001b[0m\n",
      "\u001b[1;31mKeyboardInterrupt\u001b[0m: "
     ]
    }
   ],
   "source": [
    "gb.make_graph()"
   ]
  },
  {
   "cell_type": "code",
   "execution_count": null,
   "id": "72b22f40",
   "metadata": {},
   "outputs": [],
   "source": []
  }
 ],
 "metadata": {
  "kernelspec": {
   "display_name": "Python 3",
   "language": "python",
   "name": "python3"
  },
  "language_info": {
   "codemirror_mode": {
    "name": "ipython",
    "version": 3
   },
   "file_extension": ".py",
   "mimetype": "text/x-python",
   "name": "python",
   "nbconvert_exporter": "python",
   "pygments_lexer": "ipython3",
   "version": "3.8.11"
  }
 },
 "nbformat": 4,
 "nbformat_minor": 5
}
